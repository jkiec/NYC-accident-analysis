{
 "cells": [
  {
   "cell_type": "code",
   "execution_count": 1,
   "id": "6363f9a4",
   "metadata": {},
   "outputs": [],
   "source": [
    "import pandas as pd\n",
    "import datetime as dt\n",
    "from meteostat import Point, Hourly\n",
    "import pymysql"
   ]
  },
  {
   "cell_type": "code",
   "execution_count": 2,
   "id": "14a7be95",
   "metadata": {},
   "outputs": [],
   "source": [
    "collision = pd.read_csv(\"NYC_Collisions.csv\")"
   ]
  },
  {
   "cell_type": "code",
   "execution_count": 3,
   "id": "4c1c7183",
   "metadata": {},
   "outputs": [
    {
     "name": "stdout",
     "output_type": "stream",
     "text": [
      "<class 'pandas.core.frame.DataFrame'>\n",
      "RangeIndex: 238421 entries, 0 to 238420\n",
      "Data columns (total 18 columns):\n",
      " #   Column               Non-Null Count   Dtype  \n",
      "---  ------               --------------   -----  \n",
      " 0   Collision ID         238421 non-null  int64  \n",
      " 1   Date                 238421 non-null  object \n",
      " 2   Time                 238421 non-null  object \n",
      " 3   Borough              231224 non-null  object \n",
      " 4   Street Name          238058 non-null  object \n",
      " 5   Cross Street         111291 non-null  object \n",
      " 6   Latitude             216098 non-null  float64\n",
      " 7   Longitude            216098 non-null  float64\n",
      " 8   Contributing Factor  237134 non-null  object \n",
      " 9   Vehicle Type         238421 non-null  object \n",
      " 10  Persons Injured      238420 non-null  float64\n",
      " 11  Persons Killed       238421 non-null  int64  \n",
      " 12  Pedestrians Injured  238421 non-null  int64  \n",
      " 13  Pedestrians Killed   238421 non-null  int64  \n",
      " 14  Cyclists Injured     238421 non-null  int64  \n",
      " 15  Cyclists Killed      238421 non-null  int64  \n",
      " 16  Motorists Injured    238421 non-null  int64  \n",
      " 17  Motorists Killed     238421 non-null  int64  \n",
      "dtypes: float64(3), int64(8), object(7)\n",
      "memory usage: 32.7+ MB\n"
     ]
    }
   ],
   "source": [
    "collision.info()"
   ]
  },
  {
   "cell_type": "code",
   "execution_count": 4,
   "id": "8510ab1d",
   "metadata": {
    "scrolled": true
   },
   "outputs": [
    {
     "data": {
      "text/plain": [
       "Collision ID           False\n",
       "Date                   False\n",
       "Time                   False\n",
       "Borough                 True\n",
       "Street Name             True\n",
       "Cross Street            True\n",
       "Latitude                True\n",
       "Longitude               True\n",
       "Contributing Factor     True\n",
       "Vehicle Type           False\n",
       "Persons Injured         True\n",
       "Persons Killed         False\n",
       "Pedestrians Injured    False\n",
       "Pedestrians Killed     False\n",
       "Cyclists Injured       False\n",
       "Cyclists Killed        False\n",
       "Motorists Injured      False\n",
       "Motorists Killed       False\n",
       "dtype: bool"
      ]
     },
     "execution_count": 4,
     "metadata": {},
     "output_type": "execute_result"
    }
   ],
   "source": [
    "collision.isna().any()"
   ]
  },
  {
   "cell_type": "code",
   "execution_count": 5,
   "id": "ca0ba594",
   "metadata": {},
   "outputs": [],
   "source": [
    "collision[\"Time\"]=collision[\"Time\"].str[:2]\n",
    "collision[\"Date\"]=collision[\"Date\"]+ \" \"+ collision[\"Time\"]"
   ]
  },
  {
   "cell_type": "code",
   "execution_count": 6,
   "id": "692c44e6",
   "metadata": {},
   "outputs": [],
   "source": [
    "collision[\"Date\"] = pd.to_datetime(collision[\"Date\"], format=\"%Y-%m-%d %H\")"
   ]
  },
  {
   "cell_type": "code",
   "execution_count": 7,
   "id": "464824c6",
   "metadata": {},
   "outputs": [],
   "source": [
    "collision[\"Persons Injured\"] = collision[\"Persons Injured\"].fillna(0).astype(int)\n",
    "collision[\"Borough\"] = collision[\"Borough\"].fillna(value=\"Unknown\")\n",
    "collision[\"Street Name\"] = collision[\"Street Name\"].fillna(value=\"Unknown\")\n",
    "collision[\"Contributing Factor\"] = collision[\"Contributing Factor\"].fillna(value=\"Unknown\")"
   ]
  },
  {
   "cell_type": "code",
   "execution_count": 8,
   "id": "be4b58aa",
   "metadata": {},
   "outputs": [],
   "source": [
    "# df for weather data import\n",
    "weather=collision[[\"Collision ID\",\"Date\", \"Latitude\", \"Longitude\"]]"
   ]
  },
  {
   "cell_type": "code",
   "execution_count": 9,
   "id": "615462af",
   "metadata": {},
   "outputs": [
    {
     "name": "stdout",
     "output_type": "stream",
     "text": [
      "<class 'pandas.core.frame.DataFrame'>\n",
      "Index: 216098 entries, 0 to 238420\n",
      "Data columns (total 4 columns):\n",
      " #   Column        Non-Null Count   Dtype         \n",
      "---  ------        --------------   -----         \n",
      " 0   Collision ID  216098 non-null  int64         \n",
      " 1   Date          216098 non-null  datetime64[ns]\n",
      " 2   Latitude      216098 non-null  float64       \n",
      " 3   Longitude     216098 non-null  float64       \n",
      "dtypes: datetime64[ns](1), float64(2), int64(1)\n",
      "memory usage: 8.2 MB\n"
     ]
    }
   ],
   "source": [
    "#if latitude or Longitude is NaN, I can't import weather data, so I drop it\n",
    "weather=weather.dropna(how=\"any\")\n",
    "weather.info()"
   ]
  },
  {
   "cell_type": "code",
   "execution_count": 10,
   "id": "37a6b316",
   "metadata": {},
   "outputs": [],
   "source": [
    "collision=collision.drop(columns=[\"Time\",\"Cross Street\", \"Latitude\", \"Longitude\"])"
   ]
  },
  {
   "cell_type": "code",
   "execution_count": 11,
   "id": "a4f3249d",
   "metadata": {
    "scrolled": true
   },
   "outputs": [
    {
     "name": "stdout",
     "output_type": "stream",
     "text": [
      "<class 'pandas.core.frame.DataFrame'>\n",
      "RangeIndex: 238421 entries, 0 to 238420\n",
      "Data columns (total 14 columns):\n",
      " #   Column               Non-Null Count   Dtype         \n",
      "---  ------               --------------   -----         \n",
      " 0   Collision ID         238421 non-null  int64         \n",
      " 1   Date                 238421 non-null  datetime64[ns]\n",
      " 2   Borough              238421 non-null  object        \n",
      " 3   Street Name          238421 non-null  object        \n",
      " 4   Contributing Factor  238421 non-null  object        \n",
      " 5   Vehicle Type         238421 non-null  object        \n",
      " 6   Persons Injured      238421 non-null  int32         \n",
      " 7   Persons Killed       238421 non-null  int64         \n",
      " 8   Pedestrians Injured  238421 non-null  int64         \n",
      " 9   Pedestrians Killed   238421 non-null  int64         \n",
      " 10  Cyclists Injured     238421 non-null  int64         \n",
      " 11  Cyclists Killed      238421 non-null  int64         \n",
      " 12  Motorists Injured    238421 non-null  int64         \n",
      " 13  Motorists Killed     238421 non-null  int64         \n",
      "dtypes: datetime64[ns](1), int32(1), int64(8), object(4)\n",
      "memory usage: 24.6+ MB\n"
     ]
    }
   ],
   "source": [
    "collision.info()"
   ]
  },
  {
   "cell_type": "code",
   "execution_count": 12,
   "id": "c3a1cfca",
   "metadata": {},
   "outputs": [],
   "source": [
    "#to avoid problems with importing strings into the database, there can be no '\n",
    "collision['Street Name'] = collision['Street Name'].str.replace(\"'\", \"\")"
   ]
  },
  {
   "cell_type": "code",
   "execution_count": 13,
   "id": "f8ab7d75",
   "metadata": {},
   "outputs": [
    {
     "data": {
      "text/plain": [
       "3"
      ]
     },
     "execution_count": 13,
     "metadata": {},
     "output_type": "execute_result"
    }
   ],
   "source": [
    "#number of character in columns with string (info for database)\n",
    "collision[\"Borough\"].str.len().max() #13\n",
    "collision[\"Borough\"].str.len().min() #5\n",
    "\n",
    "collision[\"Street Name\"].str.len().max() #32\n",
    "collision[\"Street Name\"].str.len().min() #2\n",
    "\n",
    "collision[\"Contributing Factor\"].str.len().max() #53\n",
    "collision[\"Contributing Factor\"].str.len().min() #5\n",
    "\n",
    "collision[\"Vehicle Type\"].str.len().max() #22\n",
    "collision[\"Vehicle Type\"].str.len().min() #3"
   ]
  },
  {
   "cell_type": "code",
   "execution_count": 14,
   "id": "5a8ee86d",
   "metadata": {},
   "outputs": [],
   "source": [
    "#function to import weather data\n",
    "def get_weather(date, lat, lon):\n",
    "    #define location\n",
    "    location = Point(lat, lon)\n",
    "\n",
    "    #fetch data\n",
    "    start = date\n",
    "    end = date\n",
    "    data = Hourly(location, start, end)\n",
    "    data = data.fetch()\n",
    "\n",
    "    if not data.empty:\n",
    "        # Extract the weather data\n",
    "        temp = data[\"temp\"].iloc[0] if \"temp\" in data.columns else None\n",
    "        humidity = data[\"rhum\"].iloc[0] if \"rhum\" in data.columns else None\n",
    "        precipitation = data['prcp'].iloc[0] if 'prcp' in data.columns else None\n",
    "        wind_speed = data['wspd'].iloc[0] if 'wspd' in data.columns else None\n",
    "        air_pressure = data['pres'].iloc[0] if 'pres' in data.columns else None\n",
    "        return temp, humidity, precipitation, wind_speed, air_pressure,\n",
    "    else:\n",
    "        return None, None, None, None, None"
   ]
  },
  {
   "cell_type": "code",
   "execution_count": 15,
   "id": "49a07f5e",
   "metadata": {},
   "outputs": [],
   "source": [
    "#import weather data\n",
    "weather[[\"Temperature\", \"Humidity\", \"Precipitation\", 'Wind speed', 'Air pressure']] = weather.apply(\n",
    "    lambda row: pd.Series(get_weather(row['Date'], row['Latitude'], row['Longitude'])),\n",
    "    axis=1)"
   ]
  },
  {
   "cell_type": "code",
   "execution_count": 16,
   "id": "84e22882",
   "metadata": {},
   "outputs": [
    {
     "data": {
      "text/html": [
       "<div>\n",
       "<style scoped>\n",
       "    .dataframe tbody tr th:only-of-type {\n",
       "        vertical-align: middle;\n",
       "    }\n",
       "\n",
       "    .dataframe tbody tr th {\n",
       "        vertical-align: top;\n",
       "    }\n",
       "\n",
       "    .dataframe thead th {\n",
       "        text-align: right;\n",
       "    }\n",
       "</style>\n",
       "<table border=\"1\" class=\"dataframe\">\n",
       "  <thead>\n",
       "    <tr style=\"text-align: right;\">\n",
       "      <th></th>\n",
       "      <th>Collision ID</th>\n",
       "      <th>Date</th>\n",
       "      <th>Latitude</th>\n",
       "      <th>Longitude</th>\n",
       "      <th>Temperature</th>\n",
       "      <th>Humidity</th>\n",
       "      <th>Precipitation</th>\n",
       "      <th>Wind speed</th>\n",
       "      <th>Air pressure</th>\n",
       "    </tr>\n",
       "  </thead>\n",
       "  <tbody>\n",
       "    <tr>\n",
       "      <th>0</th>\n",
       "      <td>4491746</td>\n",
       "      <td>2021-01-01 20:00:00</td>\n",
       "      <td>40.833980</td>\n",
       "      <td>-73.826350</td>\n",
       "      <td>3.0</td>\n",
       "      <td>70.0</td>\n",
       "      <td>0.0</td>\n",
       "      <td>0.0</td>\n",
       "      <td>1029.1</td>\n",
       "    </tr>\n",
       "    <tr>\n",
       "      <th>1</th>\n",
       "      <td>4441905</td>\n",
       "      <td>2021-01-01 05:00:00</td>\n",
       "      <td>40.687300</td>\n",
       "      <td>-73.973656</td>\n",
       "      <td>0.6</td>\n",
       "      <td>66.0</td>\n",
       "      <td>0.0</td>\n",
       "      <td>11.2</td>\n",
       "      <td>1029.8</td>\n",
       "    </tr>\n",
       "    <tr>\n",
       "      <th>3</th>\n",
       "      <td>4380949</td>\n",
       "      <td>2021-01-01 19:00:00</td>\n",
       "      <td>40.882700</td>\n",
       "      <td>-73.892730</td>\n",
       "      <td>4.0</td>\n",
       "      <td>61.0</td>\n",
       "      <td>0.0</td>\n",
       "      <td>7.6</td>\n",
       "      <td>1029.4</td>\n",
       "    </tr>\n",
       "    <tr>\n",
       "      <th>4</th>\n",
       "      <td>4380940</td>\n",
       "      <td>2021-01-01 07:00:00</td>\n",
       "      <td>40.637910</td>\n",
       "      <td>-73.978640</td>\n",
       "      <td>0.0</td>\n",
       "      <td>72.0</td>\n",
       "      <td>0.0</td>\n",
       "      <td>7.6</td>\n",
       "      <td>1031.2</td>\n",
       "    </tr>\n",
       "    <tr>\n",
       "      <th>5</th>\n",
       "      <td>4380963</td>\n",
       "      <td>2021-01-01 18:00:00</td>\n",
       "      <td>40.848630</td>\n",
       "      <td>-73.927620</td>\n",
       "      <td>4.0</td>\n",
       "      <td>61.0</td>\n",
       "      <td>0.0</td>\n",
       "      <td>7.6</td>\n",
       "      <td>1030.5</td>\n",
       "    </tr>\n",
       "    <tr>\n",
       "      <th>...</th>\n",
       "      <td>...</td>\n",
       "      <td>...</td>\n",
       "      <td>...</td>\n",
       "      <td>...</td>\n",
       "      <td>...</td>\n",
       "      <td>...</td>\n",
       "      <td>...</td>\n",
       "      <td>...</td>\n",
       "      <td>...</td>\n",
       "    </tr>\n",
       "    <tr>\n",
       "      <th>238416</th>\n",
       "      <td>4619581</td>\n",
       "      <td>2023-04-09 04:00:00</td>\n",
       "      <td>40.715443</td>\n",
       "      <td>-73.951850</td>\n",
       "      <td>5.3</td>\n",
       "      <td>66.0</td>\n",
       "      <td>0.0</td>\n",
       "      <td>10.4</td>\n",
       "      <td>1031.6</td>\n",
       "    </tr>\n",
       "    <tr>\n",
       "      <th>238417</th>\n",
       "      <td>4619685</td>\n",
       "      <td>2023-04-09 08:00:00</td>\n",
       "      <td>40.746864</td>\n",
       "      <td>-73.877170</td>\n",
       "      <td>5.0</td>\n",
       "      <td>55.0</td>\n",
       "      <td>0.0</td>\n",
       "      <td>7.9</td>\n",
       "      <td>1032.0</td>\n",
       "    </tr>\n",
       "    <tr>\n",
       "      <th>238418</th>\n",
       "      <td>4619519</td>\n",
       "      <td>2023-04-09 21:00:00</td>\n",
       "      <td>40.642017</td>\n",
       "      <td>-73.962660</td>\n",
       "      <td>10.6</td>\n",
       "      <td>41.0</td>\n",
       "      <td>0.0</td>\n",
       "      <td>22.3</td>\n",
       "      <td>1032.1</td>\n",
       "    </tr>\n",
       "    <tr>\n",
       "      <th>238419</th>\n",
       "      <td>4619921</td>\n",
       "      <td>2023-04-09 11:00:00</td>\n",
       "      <td>40.763790</td>\n",
       "      <td>-73.989655</td>\n",
       "      <td>6.7</td>\n",
       "      <td>47.0</td>\n",
       "      <td>0.0</td>\n",
       "      <td>11.2</td>\n",
       "      <td>1032.6</td>\n",
       "    </tr>\n",
       "    <tr>\n",
       "      <th>238420</th>\n",
       "      <td>4619618</td>\n",
       "      <td>2023-04-09 19:00:00</td>\n",
       "      <td>40.826400</td>\n",
       "      <td>-73.875810</td>\n",
       "      <td>11.1</td>\n",
       "      <td>34.0</td>\n",
       "      <td>0.0</td>\n",
       "      <td>20.9</td>\n",
       "      <td>1032.3</td>\n",
       "    </tr>\n",
       "  </tbody>\n",
       "</table>\n",
       "<p>216098 rows × 9 columns</p>\n",
       "</div>"
      ],
      "text/plain": [
       "        Collision ID                Date   Latitude  Longitude  Temperature  \\\n",
       "0            4491746 2021-01-01 20:00:00  40.833980 -73.826350          3.0   \n",
       "1            4441905 2021-01-01 05:00:00  40.687300 -73.973656          0.6   \n",
       "3            4380949 2021-01-01 19:00:00  40.882700 -73.892730          4.0   \n",
       "4            4380940 2021-01-01 07:00:00  40.637910 -73.978640          0.0   \n",
       "5            4380963 2021-01-01 18:00:00  40.848630 -73.927620          4.0   \n",
       "...              ...                 ...        ...        ...          ...   \n",
       "238416       4619581 2023-04-09 04:00:00  40.715443 -73.951850          5.3   \n",
       "238417       4619685 2023-04-09 08:00:00  40.746864 -73.877170          5.0   \n",
       "238418       4619519 2023-04-09 21:00:00  40.642017 -73.962660         10.6   \n",
       "238419       4619921 2023-04-09 11:00:00  40.763790 -73.989655          6.7   \n",
       "238420       4619618 2023-04-09 19:00:00  40.826400 -73.875810         11.1   \n",
       "\n",
       "        Humidity  Precipitation  Wind speed  Air pressure  \n",
       "0           70.0            0.0         0.0        1029.1  \n",
       "1           66.0            0.0        11.2        1029.8  \n",
       "3           61.0            0.0         7.6        1029.4  \n",
       "4           72.0            0.0         7.6        1031.2  \n",
       "5           61.0            0.0         7.6        1030.5  \n",
       "...          ...            ...         ...           ...  \n",
       "238416      66.0            0.0        10.4        1031.6  \n",
       "238417      55.0            0.0         7.9        1032.0  \n",
       "238418      41.0            0.0        22.3        1032.1  \n",
       "238419      47.0            0.0        11.2        1032.6  \n",
       "238420      34.0            0.0        20.9        1032.3  \n",
       "\n",
       "[216098 rows x 9 columns]"
      ]
     },
     "execution_count": 16,
     "metadata": {},
     "output_type": "execute_result"
    }
   ],
   "source": [
    "weather"
   ]
  },
  {
   "cell_type": "code",
   "execution_count": 17,
   "id": "399fb7b5",
   "metadata": {
    "scrolled": true
   },
   "outputs": [
    {
     "name": "stdout",
     "output_type": "stream",
     "text": [
      "<class 'pandas.core.frame.DataFrame'>\n",
      "RangeIndex: 216076 entries, 0 to 216075\n",
      "Data columns (total 8 columns):\n",
      " #   Column         Non-Null Count   Dtype  \n",
      "---  ------         --------------   -----  \n",
      " 0   Collision ID   216076 non-null  int64  \n",
      " 1   Latitude       216076 non-null  float64\n",
      " 2   Longitude      216076 non-null  float64\n",
      " 3   Temperature    216076 non-null  float64\n",
      " 4   Humidity       216076 non-null  float64\n",
      " 5   Precipitation  216076 non-null  float64\n",
      " 6   Wind speed     216076 non-null  float64\n",
      " 7   Air pressure   216076 non-null  float64\n",
      "dtypes: float64(7), int64(1)\n",
      "memory usage: 13.2 MB\n"
     ]
    }
   ],
   "source": [
    "weather=weather.dropna(how=\"any\")\n",
    "weather=weather.drop(columns=[\"Date\"])\n",
    "weather=weather.reset_index(drop=True)\n",
    "weather.info()"
   ]
  },
  {
   "cell_type": "code",
   "execution_count": 18,
   "id": "962479c6",
   "metadata": {},
   "outputs": [],
   "source": [
    "weather.to_csv('weather.csv')\n",
    "collision.to_csv('collision.csv')"
   ]
  },
  {
   "cell_type": "code",
   "execution_count": 19,
   "id": "543e07a9",
   "metadata": {},
   "outputs": [],
   "source": [
    "conn = pymysql.connect(database=\"collision_database\", user=\"root\", password=\"Password!1\")\n",
    "cursor=conn.cursor()"
   ]
  },
  {
   "cell_type": "code",
   "execution_count": 20,
   "id": "bdc50974",
   "metadata": {},
   "outputs": [
    {
     "data": {
      "text/plain": [
       "0"
      ]
     },
     "execution_count": 20,
     "metadata": {},
     "output_type": "execute_result"
    }
   ],
   "source": [
    "cursor.execute(\"SELECT * FROM collision_database.collision;\")"
   ]
  },
  {
   "cell_type": "code",
   "execution_count": 21,
   "id": "06e6962a",
   "metadata": {},
   "outputs": [
    {
     "data": {
      "text/plain": [
       "'INSERT INTO collision_database.collision(collision_ID, date_time, borough, street_name, contributing_factor, vehicle_type, persons_injured, persons_killed, pedestrians_injured, pedestrians_killed, cyclists_injured, cyclists_killed, motorists_injured, motorists_killed) VALUES (%s, %s, %s, %s, %s, %s,%s, %s, %s, %s, %s, %s, %s, %s)'"
      ]
     },
     "execution_count": 21,
     "metadata": {},
     "output_type": "execute_result"
    }
   ],
   "source": [
    "insert_query=\"INSERT INTO collision_database.collision(collision_ID, date_time, borough, street_name, contributing_factor, vehicle_type, persons_injured, persons_killed, pedestrians_injured, pedestrians_killed, cyclists_injured, cyclists_killed, motorists_injured, motorists_killed) VALUES (%s, %s, %s, %s, %s, %s,%s, %s, %s, %s, %s, %s, %s, %s)\"\n",
    "insert_query"
   ]
  },
  {
   "cell_type": "code",
   "execution_count": 22,
   "id": "cb7e9614",
   "metadata": {},
   "outputs": [],
   "source": [
    "data = [tuple(row) for row in collision.itertuples(index=False, name=None)]"
   ]
  },
  {
   "cell_type": "code",
   "execution_count": 23,
   "id": "e12f2416",
   "metadata": {},
   "outputs": [],
   "source": [
    "def insert_records_in_chunks(data, chunk_size=1000):\n",
    "    for i in range(0, len(data), chunk_size):\n",
    "        chunk = data[i:i + chunk_size]\n",
    "        cursor.executemany(insert_query, chunk)\n",
    "        conn.commit()"
   ]
  },
  {
   "cell_type": "code",
   "execution_count": 24,
   "id": "30d697b8",
   "metadata": {},
   "outputs": [],
   "source": [
    "insert_records_in_chunks(data)"
   ]
  },
  {
   "cell_type": "code",
   "execution_count": 25,
   "id": "15c2fd25",
   "metadata": {},
   "outputs": [
    {
     "data": {
      "text/plain": [
       "0"
      ]
     },
     "execution_count": 25,
     "metadata": {},
     "output_type": "execute_result"
    }
   ],
   "source": [
    "cursor.execute(\"SELECT * FROM collision_database.weather;\")"
   ]
  },
  {
   "cell_type": "code",
   "execution_count": 26,
   "id": "d73ba4d5",
   "metadata": {},
   "outputs": [
    {
     "data": {
      "text/plain": [
       "'INSERT INTO collision_database.weather(collision_ID, latitude, longitude, temperature, humidity, precipitation, wind_speed, air_pressure) VALUES (%s, %s, %s, %s, %s, %s, %s, %s)'"
      ]
     },
     "execution_count": 26,
     "metadata": {},
     "output_type": "execute_result"
    }
   ],
   "source": [
    "insert_query_weather=\"INSERT INTO collision_database.weather(collision_ID, latitude, longitude, temperature, humidity, precipitation, wind_speed, air_pressure) VALUES (%s, %s, %s, %s, %s, %s, %s, %s)\"\n",
    "insert_query_weather"
   ]
  },
  {
   "cell_type": "code",
   "execution_count": 27,
   "id": "28d1b272",
   "metadata": {},
   "outputs": [],
   "source": [
    "data_weather = [tuple(row) for row in weather.itertuples(index=False, name=None)]"
   ]
  },
  {
   "cell_type": "code",
   "execution_count": 28,
   "id": "dabe798d",
   "metadata": {},
   "outputs": [],
   "source": [
    "def insert_records_in_chunks_weather(data_weather, chunk_size=1000):\n",
    "    for i in range(0, len(data_weather), chunk_size):\n",
    "        chunk_weather = data_weather[i:i + chunk_size]\n",
    "        cursor.executemany(insert_query_weather, chunk_weather)\n",
    "        conn.commit()"
   ]
  },
  {
   "cell_type": "code",
   "execution_count": 29,
   "id": "c184dd75",
   "metadata": {},
   "outputs": [],
   "source": [
    "insert_records_in_chunks_weather(data_weather)"
   ]
  },
  {
   "cell_type": "code",
   "execution_count": 30,
   "id": "e757935a",
   "metadata": {},
   "outputs": [],
   "source": [
    "cursor.close()\n",
    "conn.close()"
   ]
  }
 ],
 "metadata": {
  "kernelspec": {
   "display_name": "Python 3 (ipykernel)",
   "language": "python",
   "name": "python3"
  },
  "language_info": {
   "codemirror_mode": {
    "name": "ipython",
    "version": 3
   },
   "file_extension": ".py",
   "mimetype": "text/x-python",
   "name": "python",
   "nbconvert_exporter": "python",
   "pygments_lexer": "ipython3",
   "version": "3.11.5"
  }
 },
 "nbformat": 4,
 "nbformat_minor": 5
}
